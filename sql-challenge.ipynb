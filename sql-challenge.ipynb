{
 "cells": [
  {
   "cell_type": "code",
   "execution_count": null,
   "id": "7c37c8d6",
   "metadata": {},
   "outputs": [],
   "source": [
    "-- Data Engineering --\n",
    "-- Drop Tables if Existing\n",
    "DROP TABLE IF EXISTS departments;\n",
    "DROP TABLE IF EXISTS dept_emp;\n",
    "DROP TABLE IF EXISTS dept_manager;\n",
    "DROP TABLE IF EXISTS employees;\n",
    "DROP TABLE IF EXISTS salaries;\n",
    "DROP TABLE IF EXISTS titles;\n",
    "\n",
    "-- Exported from QuickDBD: Specifying Data Types, Primary Keys & Foreign Keys \n",
    "-- Import CSV Files Into Corresponding SQL Table\n",
    "CREATE TABLE \"titles\" (\n",
    "    \"title_id\" VARCHAR(10)   NOT NULL,\n",
    "    \"title\" VARCHAR(30)   NOT NULL,\n",
    "    CONSTRAINT \"pk_titles\" PRIMARY KEY (\n",
    "        \"title_id\"\n",
    "     )\n",
    ");\n",
    "\n",
    "CREATE TABLE \"departments\" (\n",
    "    \"dept_no\" VARCHAR(10)   NOT NULL,\n",
    "    \"dept_name\" VARCHAR(30)   NOT NULL,\n",
    "    CONSTRAINT \"pk_departments\" PRIMARY KEY (\n",
    "        \"dept_no\"\n",
    "     )\n",
    ");\n",
    "\n",
    "CREATE TABLE \"employees\" (\n",
    "    \"emp_no\" INTEGER   NOT NULL,\n",
    "    \"emp_title_id\" VARCHAR(10)   NOT NULL,\n",
    "    \"birth_date\" VARCHAR(8)   NOT NULL,\n",
    "    \"first_name\" VARCHAR(20)   NOT NULL,\n",
    "    \"last_name\" VARCHAR(20)   NOT NULL,\n",
    "    \"sex\" VARCHAR(1)   NOT NULL,\n",
    "    \"hire_date\" VARCHAR(8)   NOT NULL,\n",
    "    CONSTRAINT \"pk_employees\" PRIMARY KEY (\n",
    "        \"emp_no\"\n",
    "     )\n",
    ");\n",
    "\n",
    "CREATE TABLE \"dept_manager\" (\n",
    "    \"dept_no\" VARCHAR(10)   NOT NULL,\n",
    "    \"emp_no\" INTEGER   NOT NULL\n",
    ");\n",
    "\n",
    "CREATE TABLE \"salaries\" (\n",
    "    \"emp_no\" INTEGER   NOT NULL,\n",
    "    \"salary\" INTEGER   NOT NULL\n",
    ");\n",
    "\n",
    "CREATE TABLE \"dept_emp\" (\n",
    "    \"emp_no\" INTEGER   NOT NULL,\n",
    "    \"dept_no\" VARCHAR(10)   NOT NULL\n",
    ");\n",
    "\n",
    "ALTER TABLE \"employees\" ADD CONSTRAINT \"fk_employees_emp_title_id\" FOREIGN KEY(\"emp_title_id\")\n",
    "REFERENCES \"titles\" (\"title_id\");\n",
    "\n",
    "ALTER TABLE \"dept_manager\" ADD CONSTRAINT \"fk_dept_manager_dept_no\" FOREIGN KEY(\"dept_no\")\n",
    "REFERENCES \"departments\" (\"dept_no\");\n",
    "\n",
    "ALTER TABLE \"dept_manager\" ADD CONSTRAINT \"fk_dept_manager_emp_no\" FOREIGN KEY(\"emp_no\")\n",
    "REFERENCES \"employees\" (\"emp_no\");\n",
    "\n",
    "ALTER TABLE \"salaries\" ADD CONSTRAINT \"fk_salaries_emp_no\" FOREIGN KEY(\"emp_no\")\n",
    "REFERENCES \"employees\" (\"emp_no\");\n",
    "\n",
    "ALTER TABLE \"dept_emp\" ADD CONSTRAINT \"fk_dept_emp_emp_no\" FOREIGN KEY(\"emp_no\")\n",
    "REFERENCES \"employees\" (\"emp_no\");\n",
    "\n",
    "ALTER TABLE \"dept_emp\" ADD CONSTRAINT \"fk_dept_emp_dept_no\" FOREIGN KEY(\"dept_no\")\n",
    "REFERENCES \"departments\" (\"dept_no\");\n",
    "\n",
    "\n",
    "-- Query * FROM Each Table Confirming Data\n",
    "SELECT * FROM departments;\n",
    "SELECT * FROM titles;\n",
    "SELECT * FROM employees;\n",
    "SELECT * FROM dept_emp;\n",
    "SELECT * FROM dept_manager;\n",
    "SELECT * FROM salaries;"
   ]
  },
  {
   "cell_type": "code",
   "execution_count": null,
   "id": "a484d547",
   "metadata": {},
   "outputs": [],
   "source": [
    "SELECT employees.emp_no, employees.last_name, employees.first_name, employees.sex, salaries.salary\n",
    "FROM employees\n",
    "JOIN salaries\n",
    "ON employees.emp_no = salaries.emp_no;"
   ]
  },
  {
   "cell_type": "code",
   "execution_count": null,
   "id": "90fd3951",
   "metadata": {},
   "outputs": [],
   "source": [
    "SELECT first_name, last_name, hire_date \n",
    "FROM employees\n",
    "WHERE hire_date BETWEEN '1/1/1986' AND '12/31/1986'\n",
    "ORDER BY hire_date;"
   ]
  },
  {
   "cell_type": "code",
   "execution_count": null,
   "id": "12ccbe5a",
   "metadata": {},
   "outputs": [],
   "source": [
    "SELECT departments.dept_no, departments.dept_name, dept_manager.emp_no, employees.last_name, employees.first_name\n",
    "FROM departments\n",
    "JOIN dept_manager\n",
    "ON departments.dept_no = dept_manager.dept_no\n",
    "JOIN employees\n",
    "ON dept_manager.emp_no = employees.emp_no;"
   ]
  },
  {
   "cell_type": "code",
   "execution_count": null,
   "id": "bc41b558",
   "metadata": {},
   "outputs": [],
   "source": [
    "SELECT dept_emp.emp_no, employees.last_name, employees.first_name, departments.dept_name\n",
    "FROM dept_emp\n",
    "JOIN employees\n",
    "ON dept_emp.emp_no = employees.emp_no\n",
    "JOIN departments\n",
    "ON dept_emp.dept_no = departments.dept_no;"
   ]
  },
  {
   "cell_type": "code",
   "execution_count": null,
   "id": "01298e32",
   "metadata": {},
   "outputs": [],
   "source": [
    "SELECT employees.first_name, employees.last_name, employees.sex\n",
    "FROM employees\n",
    "WHERE first_name = 'Hercules'\n",
    "AND last_name Like 'B%'"
   ]
  },
  {
   "cell_type": "code",
   "execution_count": null,
   "id": "94f54228",
   "metadata": {},
   "outputs": [],
   "source": [
    "SELECT departments.dept_name, employees.last_name, employees.first_name\n",
    "FROM dept_emp\n",
    "JOIN employees\n",
    "ON dept_emp.emp_no = employees.emp_no\n",
    "JOIN departments\n",
    "ON dept_emp.dept_no = departments.dept_no\n",
    "WHERE departments.dept_name = 'Sales';"
   ]
  },
  {
   "cell_type": "code",
   "execution_count": null,
   "id": "a7f9c6b7",
   "metadata": {},
   "outputs": [],
   "source": [
    "FROM dept_emp\n",
    "JOIN employees\n",
    "ON dept_emp.emp_no = employees.emp_no\n",
    "JOIN departments\n",
    "ON dept_emp.dept_no = departments.dept_no\n",
    "WHERE departments.dept_name = 'Sales' \n",
    "OR departments.dept_name = 'Development';"
   ]
  },
  {
   "cell_type": "code",
   "execution_count": null,
   "id": "213cd151",
   "metadata": {},
   "outputs": [],
   "source": [
    "SELECT last_name,\n",
    "COUNT(last_name) AS \"frequency\"\n",
    "FROM employees\n",
    "GROUP BY last_name\n",
    "ORDER BY\n",
    "COUNT(last_name) DESC;"
   ]
  }
 ],
 "metadata": {
  "kernelspec": {
   "display_name": "Python 3 (ipykernel)",
   "language": "python",
   "name": "python3"
  },
  "language_info": {
   "codemirror_mode": {
    "name": "ipython",
    "version": 3
   },
   "file_extension": ".py",
   "mimetype": "text/x-python",
   "name": "python",
   "nbconvert_exporter": "python",
   "pygments_lexer": "ipython3",
   "version": "3.9.13"
  }
 },
 "nbformat": 4,
 "nbformat_minor": 5
}
